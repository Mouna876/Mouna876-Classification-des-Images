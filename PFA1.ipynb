{
  "cells": [
    {
      "cell_type": "markdown",
      "metadata": {
        "id": "view-in-github",
        "colab_type": "text"
      },
      "source": [
        "<a href=\"https://colab.research.google.com/github/Mouna876/Mouna876-Classification-des-Images/blob/main/PFA1.ipynb\" target=\"_parent\"><img src=\"https://colab.research.google.com/assets/colab-badge.svg\" alt=\"Open In Colab\"/></a>"
      ]
    },
    {
      "cell_type": "code",
      "execution_count": null,
      "metadata": {
        "id": "2-qNotc_kTiH",
        "colab": {
          "base_uri": "https://localhost:8080/"
        },
        "outputId": "6cec0317-9ed8-449f-d112-e4f3f15e8281"
      },
      "outputs": [
        {
          "output_type": "stream",
          "name": "stdout",
          "text": [
            "Mounted at /content/drive\n"
          ]
        }
      ],
      "source": [
        "from google.colab import drive\n",
        "drive.mount('/content/drive')"
      ]
    },
    {
      "cell_type": "code",
      "source": [
        "import os\n",
        "import random\n",
        "import matplotlib.pyplot as plt\n",
        "import matplotlib.image as mpimg\n",
        "import tensorflow as tf\n",
        "from tensorflow.keras.applications import MobileNetV2\n",
        "from tensorflow.keras.layers import Dense, GlobalAveragePooling2D\n",
        "from tensorflow.keras.models import Model\n",
        "from tensorflow.keras.optimizers import Adam\n",
        "from tensorflow.keras.preprocessing.image import ImageDataGenerator"
      ],
      "metadata": {
        "id": "WFIfIig7jXSk"
      },
      "execution_count": null,
      "outputs": []
    },
    {
      "cell_type": "code",
      "source": [
        "# Chemins des répertoires\n",
        "train_dir = \"/content/drive/MyDrive/chest_xray/chest_xray/train\"\n",
        "val_dir = \"/content/drive/MyDrive/chest_xray/chest_xray/val\"\n",
        "test_dir = \"/content/drive/MyDrive/chest_xray/chest_xray/test\""
      ],
      "metadata": {
        "id": "onnSwfF2jZUR"
      },
      "execution_count": null,
      "outputs": []
    },
    {
      "cell_type": "code",
      "source": [
        "# Paramètres\n",
        "img_height, img_width = 224, 224\n",
        "batch_size = 8"
      ],
      "metadata": {
        "id": "Zyk8Xl2ejkRw"
      },
      "execution_count": null,
      "outputs": []
    },
    {
      "cell_type": "code",
      "source": [
        "# Créer des générateurs de données avec augmentation pour l'entraînement et sans augmentation pour la validation et le test\n",
        "train_datagen = ImageDataGenerator(\n",
        "    rotation_range=40,\n",
        "    width_shift_range=0.2,\n",
        "    height_shift_range=0.2,\n",
        "    rescale=1./255,\n",
        "    shear_range=0.2,\n",
        "    zoom_range=0.2,\n",
        "    horizontal_flip=True,\n",
        "    fill_mode='nearest'\n",
        ")\n",
        "\n",
        "val_test_datagen = ImageDataGenerator(rescale=1./255)\n",
        "\n",
        "train_generator = train_datagen.flow_from_directory(\n",
        "    directory=train_dir,\n",
        "    target_size=(img_height, img_width),\n",
        "    batch_size=batch_size,\n",
        "    class_mode='binary'\n",
        ")\n",
        "\n",
        "val_generator = val_test_datagen.flow_from_directory(\n",
        "    directory=val_dir,\n",
        "    target_size=(img_height, img_width),\n",
        "    batch_size=batch_size,\n",
        "    class_mode='binary'\n",
        ")\n",
        "\n",
        "test_generator = val_test_datagen.flow_from_directory(\n",
        "    directory=test_dir,\n",
        "    target_size=(img_height, img_width),\n",
        "    batch_size=batch_size,\n",
        "    class_mode='binary'\n",
        ")"
      ],
      "metadata": {
        "colab": {
          "base_uri": "https://localhost:8080/"
        },
        "id": "Dn9hQXCNjnqk",
        "outputId": "35a8f095-ebcb-4b30-c76d-a5661fb2b9e8"
      },
      "execution_count": null,
      "outputs": [
        {
          "output_type": "stream",
          "name": "stdout",
          "text": [
            "Found 5240 images belonging to 2 classes.\n",
            "Found 16 images belonging to 2 classes.\n",
            "Found 634 images belonging to 2 classes.\n"
          ]
        }
      ]
    },
    {
      "cell_type": "code",
      "source": [
        "# Charger MobileNetV2 pré-entraîné sans les couches supérieures\n",
        "base_model = MobileNetV2(input_shape=(img_height, img_width, 3), weights='imagenet', include_top=False)"
      ],
      "metadata": {
        "colab": {
          "base_uri": "https://localhost:8080/"
        },
        "id": "3GfjC4wKjtD6",
        "outputId": "6e6e9a32-d06f-4183-84e9-23c15a433b59"
      },
      "execution_count": null,
      "outputs": [
        {
          "output_type": "stream",
          "name": "stdout",
          "text": [
            "Downloading data from https://storage.googleapis.com/tensorflow/keras-applications/mobilenet_v2/mobilenet_v2_weights_tf_dim_ordering_tf_kernels_1.0_224_no_top.h5\n",
            "9406464/9406464 [==============================] - 1s 0us/step\n"
          ]
        }
      ]
    },
    {
      "cell_type": "code",
      "source": [
        "# Congeler les couches du modèle de base\n",
        "base_model.trainable = False"
      ],
      "metadata": {
        "id": "QH26sK6ejv65"
      },
      "execution_count": null,
      "outputs": []
    },
    {
      "cell_type": "code",
      "source": [
        "# Ajouter des couches de classification au modèle\n",
        "x = base_model.output\n",
        "x = GlobalAveragePooling2D()(x)\n",
        "x = Dense(128, activation='relu')(x)\n",
        "predictions = Dense(1, activation='sigmoid')(x)"
      ],
      "metadata": {
        "id": "PNtXJ34fj0t_"
      },
      "execution_count": null,
      "outputs": []
    },
    {
      "cell_type": "code",
      "source": [
        "# Créer le modèle final\n",
        "model = Model(inputs=base_model.input, outputs=predictions)"
      ],
      "metadata": {
        "id": "0snAZyO0j3jc"
      },
      "execution_count": null,
      "outputs": []
    },
    {
      "cell_type": "code",
      "source": [
        "# Compiler le modèle\n",
        "model.compile(optimizer=Adam(), loss='binary_crossentropy', metrics=['accuracy'])"
      ],
      "metadata": {
        "id": "7oSIGuYhj59T"
      },
      "execution_count": null,
      "outputs": []
    },
    {
      "cell_type": "code",
      "source": [
        "# Entraîner le modèle\n",
        "history = model.fit(\n",
        "    train_generator,\n",
        "    epochs=10,\n",
        "    validation_data=val_generator\n",
        ")"
      ],
      "metadata": {
        "colab": {
          "base_uri": "https://localhost:8080/"
        },
        "id": "o-xVDWiIkAuD",
        "outputId": "33291634-695d-4e99-d498-b90400398fb9"
      },
      "execution_count": null,
      "outputs": [
        {
          "output_type": "stream",
          "name": "stdout",
          "text": [
            "Epoch 1/10\n",
            "655/655 [==============================] - 2689s 4s/step - loss: 0.1923 - accuracy: 0.9181 - val_loss: 0.2993 - val_accuracy: 0.9375\n",
            "Epoch 2/10\n",
            "655/655 [==============================] - 331s 504ms/step - loss: 0.1541 - accuracy: 0.9366 - val_loss: 0.4159 - val_accuracy: 0.8125\n",
            "Epoch 3/10\n",
            "655/655 [==============================] - 316s 483ms/step - loss: 0.1451 - accuracy: 0.9406 - val_loss: 0.3209 - val_accuracy: 0.8750\n",
            "Epoch 4/10\n",
            "655/655 [==============================] - 330s 503ms/step - loss: 0.1365 - accuracy: 0.9447 - val_loss: 0.2527 - val_accuracy: 0.8125\n",
            "Epoch 5/10\n",
            "655/655 [==============================] - 328s 501ms/step - loss: 0.1165 - accuracy: 0.9523 - val_loss: 0.2591 - val_accuracy: 0.8750\n",
            "Epoch 6/10\n",
            "655/655 [==============================] - 317s 485ms/step - loss: 0.1265 - accuracy: 0.9510 - val_loss: 0.3042 - val_accuracy: 0.8750\n",
            "Epoch 7/10\n",
            "655/655 [==============================] - 326s 497ms/step - loss: 0.1108 - accuracy: 0.9550 - val_loss: 0.4183 - val_accuracy: 0.8125\n",
            "Epoch 8/10\n",
            "655/655 [==============================] - 320s 488ms/step - loss: 0.1215 - accuracy: 0.9500 - val_loss: 0.6484 - val_accuracy: 0.6875\n",
            "Epoch 9/10\n",
            "655/655 [==============================] - 328s 501ms/step - loss: 0.1224 - accuracy: 0.9511 - val_loss: 0.3373 - val_accuracy: 0.6875\n",
            "Epoch 10/10\n",
            "655/655 [==============================] - 320s 488ms/step - loss: 0.1090 - accuracy: 0.9557 - val_loss: 0.2664 - val_accuracy: 0.7500\n"
          ]
        }
      ]
    },
    {
      "cell_type": "code",
      "source": [
        "# Évaluer le modèle sur l'ensemble de test\n",
        "evaluation = model.evaluate(test_generator)\n",
        "print(\"Accuracy on test set:\", evaluation[1] * 100, \"%\")"
      ],
      "metadata": {
        "id": "D_sK14IjkDH6",
        "colab": {
          "base_uri": "https://localhost:8080/"
        },
        "outputId": "a4e751cd-2bc9-462c-e7c8-7f41d2041dae"
      },
      "execution_count": null,
      "outputs": [
        {
          "output_type": "stream",
          "name": "stdout",
          "text": [
            "80/80 [==============================] - 310s 4s/step - loss: 0.2665 - accuracy: 0.8959\n",
            "Accuracy on test set: 89.58990573883057 %\n"
          ]
        }
      ]
    },
    {
      "cell_type": "code",
      "source": [
        "model.save('/content/drive/MyDrive/ColabNotebooks/chest_xray_model.h5')"
      ],
      "metadata": {
        "colab": {
          "base_uri": "https://localhost:8080/"
        },
        "id": "nGxcuxb8FH56",
        "outputId": "c500819e-3fe1-40ae-9730-568e45f33a7e"
      },
      "execution_count": null,
      "outputs": [
        {
          "output_type": "stream",
          "name": "stderr",
          "text": [
            "/usr/local/lib/python3.10/dist-packages/keras/src/engine/training.py:3103: UserWarning: You are saving your model as an HDF5 file via `model.save()`. This file format is considered legacy. We recommend using instead the native Keras format, e.g. `model.save('my_model.keras')`.\n",
            "  saving_api.save_model(\n"
          ]
        }
      ]
    }
  ],
  "metadata": {
    "colab": {
      "provenance": [],
      "include_colab_link": true
    },
    "kernelspec": {
      "display_name": "Python 3",
      "name": "python3"
    },
    "language_info": {
      "name": "python"
    }
  },
  "nbformat": 4,
  "nbformat_minor": 0
}